{
  "nbformat": 4,
  "nbformat_minor": 0,
  "metadata": {
    "colab": {
      "provenance": [],
      "mount_file_id": "1lD8eR8OF9qRa2_p1ekIq17WlWYJXHZK5",
      "authorship_tag": "ABX9TyNGVhJfQ6pKfntCMqg77TCE",
      "include_colab_link": true
    },
    "kernelspec": {
      "name": "python3",
      "display_name": "Python 3"
    },
    "language_info": {
      "name": "python"
    }
  },
  "cells": [
    {
      "cell_type": "markdown",
      "metadata": {
        "id": "view-in-github",
        "colab_type": "text"
      },
      "source": [
        "<a href=\"https://colab.research.google.com/github/Guruvellitarun/OOPS_Pyhon/blob/main/OOPS_Python.ipynb\" target=\"_parent\"><img src=\"https://colab.research.google.com/assets/colab-badge.svg\" alt=\"Open In Colab\"/></a>"
      ]
    },
    {
      "cell_type": "code",
      "execution_count": 1,
      "metadata": {
        "id": "Y54VcubI4L-G"
      },
      "outputs": [],
      "source": [
        "# Ceating class and object\n",
        "class Student:\n",
        "  def __init__(self, name, rgno):\n",
        "    self.name = name\n",
        "    self.rgno = rgno\n",
        "  def disp(self):\n",
        "    print(f\"Hello {self.name}, your Registration Number is {self.rgno}\")\n",
        "  def update(self):\n",
        "    self.name = input(\"Enter your name: \")\n",
        "    self.rgno = input(\"Enter your Registration Number: \")\n",
        "  def compare(self, other):\n",
        "    if self.rgno == other.rgno:\n",
        "      return True\n",
        "    else:\n",
        "      return False"
      ]
    },
    {
      "cell_type": "code",
      "source": [
        "s1 = Student('Tarun', '22MIS1109')\n",
        "s2 = Student('Likhil', '22MIS1160')\n",
        "s1.disp()\n",
        "s2.disp()"
      ],
      "metadata": {
        "colab": {
          "base_uri": "https://localhost:8080/"
        },
        "id": "bhXRnvkX7r8z",
        "outputId": "6889e928-8caf-469e-d84c-ee8aee71695a"
      },
      "execution_count": 2,
      "outputs": [
        {
          "output_type": "stream",
          "name": "stdout",
          "text": [
            "Hello Tarun, your Registration Number is 22MIS1109\n",
            "Hello Likhil, your Registration Number is 22MIS1160\n"
          ]
        }
      ]
    },
    {
      "cell_type": "code",
      "source": [
        "s1.update()"
      ],
      "metadata": {
        "colab": {
          "base_uri": "https://localhost:8080/"
        },
        "id": "bUlRS_i-71UZ",
        "outputId": "78f74aaa-a320-45ec-8b02-3df401e477d8"
      },
      "execution_count": 3,
      "outputs": [
        {
          "name": "stdout",
          "output_type": "stream",
          "text": [
            "Enter your name: tarun\n",
            "Enter your Registration Number: 22mis1109\n"
          ]
        }
      ]
    },
    {
      "cell_type": "code",
      "source": [
        "if s1.compare(s2):\n",
        "  print(\"They both have same Reg numbers\")\n",
        "else:\n",
        "  print(\"They both have different Reg numbers.\")"
      ],
      "metadata": {
        "colab": {
          "base_uri": "https://localhost:8080/"
        },
        "id": "vZMD_TNnAL1b",
        "outputId": "fae0fb8e-81f0-4be2-828b-df689600d157"
      },
      "execution_count": 4,
      "outputs": [
        {
          "output_type": "stream",
          "name": "stdout",
          "text": [
            "They both have different Reg numbers.\n"
          ]
        }
      ]
    },
    {
      "cell_type": "markdown",
      "source": [
        "## **Variables**\n",
        "A variable is a named location used to store data in memory.\n",
        "\n",
        "eg :\n",
        "\n",
        "    name = \"Tarun\"\n",
        "\n",
        "    registration_number = \"22MIS1109\"\n",
        "\n",
        "A Class has two variables which are\n",
        "* __Instance variable__ --> defined inside the __init__ method\n",
        "\n",
        " eg : mil, com, name\n",
        "* __Class(Static) variable__ --> defined inside the __class__ and outside the __init__ method\n",
        "\n",
        " eg : wheels\n",
        "\n",
        "```\n",
        "# This is formatted as code\n",
        "```\n",
        "\n",
        "\n"
      ],
      "metadata": {
        "id": "xy4F7k28a8qM"
      }
    },
    {
      "cell_type": "code",
      "source": [
        "class Car:\n",
        "  wheels = 4\n",
        "  def __init__(self):\n",
        "    self.mil = 10\n",
        "    self.com = \"BMW\"\n",
        "    self.name = \"X5\"\n",
        "\n",
        "c1 = Car()\n",
        "c2 = Car()\n",
        "\n",
        "print(c1.com, c1.mil, c1.name, c1.wheels)\n",
        "print(c2.com, c2.mil, c2.name, c2.wheels)\n",
        "\n",
        "Car.wheels = 5\n",
        "print(c1.com, c1.mil, c1.name, c1.wheels)\n",
        "print(c2.com, c2.mil, c2.name, c2.wheels)"
      ],
      "metadata": {
        "colab": {
          "base_uri": "https://localhost:8080/"
        },
        "id": "UK5FPAlwZHVl",
        "outputId": "16851035-87db-4293-9dcb-da19227e058b"
      },
      "execution_count": 5,
      "outputs": [
        {
          "output_type": "stream",
          "name": "stdout",
          "text": [
            "BMW 10 X5 4\n",
            "BMW 10 X5 4\n",
            "BMW 10 X5 5\n",
            "BMW 10 X5 5\n"
          ]
        }
      ]
    },
    {
      "cell_type": "markdown",
      "source": [
        "## **Types of Methods in Python**\n",
        "\n",
        "* There are __3__ types of methods\n",
        " 1. **Instance** Methods\n",
        "\n",
        "    (i).  Accessor Methods\n",
        "    \n",
        "    (ii). Mutator Methods\n",
        " 2. **Class** Methods\n",
        " 3. **Static** Methods\n"
      ],
      "metadata": {
        "id": "NccaS8XVfvjN"
      }
    },
    {
      "cell_type": "code",
      "source": [
        "class School:\n",
        "  name = 'Tarun'\n",
        "\n",
        "  def __init__(self, m1, m2, m3):\n",
        "    self.m1 = m1\n",
        "    self.m2 = m2\n",
        "    self.m3 = m3\n",
        "\n",
        "  def avg(self):  # Instace Method\n",
        "    return (self.m1 + self.m2 + self.m3)/3\n",
        "\n",
        "  def get_m(self): # Accessor Methods\n",
        "    return self.m1\n",
        "\n",
        "  def set_m(self, value): # Mutator Methods\n",
        "    self.m1 = value\n",
        "\n",
        "  @classmethod         # @ is called decoraters\n",
        "  def get_school_name(cls):       #Class Method 'Used for accessing class variable'\n",
        "    return cls.name\n",
        "\n",
        "  @staticmethod\n",
        "  def sum(x, y): # Static method 'Does not depends on the any variable'\n",
        "    return x + y\n",
        "\n",
        "s1 = School(2,0,44)\n",
        "s2 = School(44,55,33)\n",
        "\n",
        "print(s1.avg())\n",
        "print(s2.avg())\n",
        "print(s1.get_school_name())\n",
        "print(s1.sum(2,3))"
      ],
      "metadata": {
        "colab": {
          "base_uri": "https://localhost:8080/"
        },
        "id": "JNEpoH9VdU1m",
        "outputId": "be908ea3-ed50-4632-b4bd-6d94d42ff9a7"
      },
      "execution_count": 6,
      "outputs": [
        {
          "output_type": "stream",
          "name": "stdout",
          "text": [
            "15.333333333333334\n",
            "44.0\n",
            "Tarun\n",
            "5\n"
          ]
        }
      ]
    },
    {
      "cell_type": "markdown",
      "source": [
        "## **Inner Class**\n",
        "* Creating a class inside the class"
      ],
      "metadata": {
        "id": "iN_Ezw5_ztke"
      }
    },
    {
      "cell_type": "code",
      "source": [
        "class Student:\n",
        "  def __init__(self, name, rollno):\n",
        "    self.name = name\n",
        "    self.rollno = rollno\n",
        "    self.lap = self.Laptop('','',0)\n",
        "\n",
        "  def show(self):\n",
        "    print(self.name, self.rollno)\n",
        "\n",
        "  # If the student has Laptop and when want to store details of it..\n",
        "  class Laptop:                             # Inner class\n",
        "    def __init__(self, brand, cpu, cost):\n",
        "      self.brand = brand\n",
        "      self.cpu = cpu\n",
        "      self.cost = cost\n",
        "\n",
        "    def show(self):\n",
        "      print(self.brand, self.cpu, self.cost)\n",
        "\n",
        "\n",
        "s1 = Student('tarun', 2)\n",
        "s2 = Student('mahi', 3)\n",
        "\n",
        "#This is one way to create and access the laptop variables\n",
        "lap1 = Student.Laptop('Dell', 'intel', 20000)\n",
        "lap2 = Student.Laptop('Hp', 'Amd', 32000)\n",
        "\n",
        "s1.lap = lap1\n",
        "s2.lap = lap2\n",
        "\n",
        "s1.show()\n",
        "s1.lap.show()"
      ],
      "metadata": {
        "colab": {
          "base_uri": "https://localhost:8080/"
        },
        "id": "IpvU7GB_uifo",
        "outputId": "762dfcaa-f0c4-4069-b132-7df12ae26682"
      },
      "execution_count": 7,
      "outputs": [
        {
          "output_type": "stream",
          "name": "stdout",
          "text": [
            "tarun 2\n",
            "Dell intel 20000\n"
          ]
        }
      ]
    },
    {
      "cell_type": "markdown",
      "source": [
        "## **Inheritancec in Python**\n",
        "\n",
        "* `Sigle` Inheritance\n",
        "* `Multilevel` Inheritance\n",
        "* `Mulitple` Inheritance"
      ],
      "metadata": {
        "id": "ZybUh8nTRJFE"
      }
    },
    {
      "cell_type": "code",
      "source": [
        "class A:\n",
        "  def function1(self):\n",
        "    print(\"Function 1 is working.\")\n",
        "  def function2(self):\n",
        "    print(\"Function 2 is working.\")\n",
        "\n",
        "class B(A):                  # Single Inheritance\n",
        "  def function3(self):\n",
        "    print(\"Function 3 is working.\")\n",
        "\n",
        "class C(B):               # Multilevel Inheritance\n",
        "  def function4(self):\n",
        "    print(\"Function 4 is working.\")\n",
        "\n",
        "class D:\n",
        "  def function5(self):\n",
        "    print(\"Function 5 is working.\")\n",
        "\n",
        "class E(A, D):               # Multiple Inheritance\n",
        "  def function6(self):\n",
        "    print(\"Function 6 is working.\")\n",
        "\n",
        "a1 = A()\n",
        "a1.function1()\n",
        "a1.function2()\n",
        "\n"
      ],
      "metadata": {
        "id": "L8z0SAPc2N87",
        "colab": {
          "base_uri": "https://localhost:8080/"
        },
        "outputId": "80081cbe-bcda-498c-f85c-6e7b32542488"
      },
      "execution_count": 11,
      "outputs": [
        {
          "output_type": "stream",
          "name": "stdout",
          "text": [
            "Function 1 is working.\n",
            "Function 2 is working.\n"
          ]
        }
      ]
    },
    {
      "cell_type": "markdown",
      "source": [
        "### **Constuctor In Inheritance.**"
      ],
      "metadata": {
        "id": "oqmTALRHVqZR"
      }
    },
    {
      "cell_type": "code",
      "source": [],
      "metadata": {
        "id": "kD8yMGVLVqJq"
      },
      "execution_count": null,
      "outputs": []
    },
    {
      "cell_type": "code",
      "source": [],
      "metadata": {
        "id": "fgo3Fk8iTXzQ"
      },
      "execution_count": null,
      "outputs": []
    }
  ]
}
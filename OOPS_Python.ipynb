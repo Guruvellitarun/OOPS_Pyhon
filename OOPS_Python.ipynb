{
  "nbformat": 4,
  "nbformat_minor": 0,
  "metadata": {
    "colab": {
      "provenance": [],
      "authorship_tag": "ABX9TyPtoSom+kIdeYTDUtMz9xFg",
      "include_colab_link": true
    },
    "kernelspec": {
      "name": "python3",
      "display_name": "Python 3"
    },
    "language_info": {
      "name": "python"
    }
  },
  "cells": [
    {
      "cell_type": "markdown",
      "metadata": {
        "id": "view-in-github",
        "colab_type": "text"
      },
      "source": [
        "<a href=\"https://colab.research.google.com/github/Guruvellitarun/OOPS_Pyhon/blob/main/OOPS_Python.ipynb\" target=\"_parent\"><img src=\"https://colab.research.google.com/assets/colab-badge.svg\" alt=\"Open In Colab\"/></a>"
      ]
    },
    {
      "cell_type": "code",
      "execution_count": 27,
      "metadata": {
        "id": "Y54VcubI4L-G"
      },
      "outputs": [],
      "source": [
        "# Ceating class and object\n",
        "class Student:\n",
        "  def __init__(self, name, rgno):\n",
        "    self.name = name\n",
        "    self.rgno = rgno\n",
        "  def disp(self):\n",
        "    print(f\"Hello {self.name}, your Registration Number is {self.rgno}\")\n",
        "  def update(self):\n",
        "    self.name = input(\"Enter your name: \")\n",
        "    self.rgno = input(\"Enter your Registration Number: \")\n",
        "  def compare(self, other):\n",
        "    if self.rgno == other.rgno:\n",
        "      return True\n",
        "    else:\n",
        "      return False"
      ]
    },
    {
      "cell_type": "code",
      "source": [
        "s1 = Student('Tarun', '22MIS1109')\n",
        "s2 = Student('Likhil', '22MIS1160')\n",
        "s1.disp()\n",
        "s2.disp()"
      ],
      "metadata": {
        "colab": {
          "base_uri": "https://localhost:8080/"
        },
        "id": "bhXRnvkX7r8z",
        "outputId": "144cd1c0-4316-4d34-a624-7f50d108483d"
      },
      "execution_count": 31,
      "outputs": [
        {
          "output_type": "stream",
          "name": "stdout",
          "text": [
            "Hello Tarun, your Registration Number is 22MIS1109\n",
            "Hello Likhil, your Registration Number is 22MIS1160\n"
          ]
        }
      ]
    },
    {
      "cell_type": "code",
      "source": [
        "s1.update()"
      ],
      "metadata": {
        "colab": {
          "base_uri": "https://localhost:8080/"
        },
        "id": "bUlRS_i-71UZ",
        "outputId": "89827e00-1a8f-4f87-af6d-9f1a25b59e7e"
      },
      "execution_count": 32,
      "outputs": [
        {
          "name": "stdout",
          "output_type": "stream",
          "text": [
            "Enter your name: G Tarun\n",
            "Enter your Registration Number: 22MIS1160\n"
          ]
        }
      ]
    },
    {
      "cell_type": "code",
      "source": [
        "if s1.compare(s2):\n",
        "  print(\"They both have same Reg numbers\")\n",
        "else:\n",
        "  print(\"They both have different Reg numbers.\")"
      ],
      "metadata": {
        "colab": {
          "base_uri": "https://localhost:8080/"
        },
        "id": "vZMD_TNnAL1b",
        "outputId": "703c6ea5-5fbe-45a9-f0f9-ad7cfd65003f"
      },
      "execution_count": 33,
      "outputs": [
        {
          "output_type": "stream",
          "name": "stdout",
          "text": [
            "They both have same Reg numbers\n"
          ]
        }
      ]
    },
    {
      "cell_type": "code",
      "source": [],
      "metadata": {
        "id": "UK5FPAlwZHVl"
      },
      "execution_count": null,
      "outputs": []
    }
  ]
}